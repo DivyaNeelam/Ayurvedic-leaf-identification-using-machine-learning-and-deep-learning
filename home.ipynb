{
 "cells": [
  {
   "cell_type": "code",
   "execution_count": 1,
   "id": "6f676820",
   "metadata": {},
   "outputs": [],
   "source": [
    "import tensorflow as tf"
   ]
  },
  {
   "cell_type": "code",
   "execution_count": 3,
   "id": "ab602f00",
   "metadata": {},
   "outputs": [
    {
     "name": "stdout",
     "output_type": "stream",
     "text": [
      "Found 1713 files belonging to 19 classes.\n"
     ]
    },
    {
     "data": {
      "text/plain": [
       "['Aloevera',\n",
       " 'Amla',\n",
       " 'Amruthaballi',\n",
       " 'Arali',\n",
       " 'Astma_weed',\n",
       " 'Badipala',\n",
       " 'Balloon_Vine',\n",
       " 'Bamboo',\n",
       " 'Beans',\n",
       " 'Betel',\n",
       " 'Bhrami',\n",
       " 'Bringaraja',\n",
       " 'Caricature',\n",
       " 'Castor',\n",
       " 'Catharanthus',\n",
       " 'Chakte',\n",
       " 'Chilly',\n",
       " 'ashoka',\n",
       " 'camphor']"
      ]
     },
     "execution_count": 3,
     "metadata": {},
     "output_type": "execute_result"
    }
   ],
   "source": [
    "dataset = tf.keras.preprocessing.image_dataset_from_directory(\n",
    "    \"E:\\ipd 3rd  2nd sem\\dataset\",\n",
    "    shuffle=True,\n",
    "    batch_size=32,\n",
    "    image_size=(299, 299),\n",
    ")\n",
    "\n",
    "labels = dataset.class_names\n",
    "labels"
   ]
  },
  {
   "cell_type": "code",
   "execution_count": 4,
   "id": "6dfe9d65",
   "metadata": {},
   "outputs": [
    {
     "name": "stdout",
     "output_type": "stream",
     "text": [
      "(32, 299, 299, 3)\n",
      "[15  7 15 16  6 10 16 16  0 15 16  7 18 17  3  6  4 11  8  8  9  2 11 15\n",
      "  6  6 14  9  3  8  9  4]\n"
     ]
    }
   ],
   "source": [
    "import numpy as np\n",
    "\n",
    "for image_batch, labels_batch in dataset.take(1):\n",
    "    print(image_batch.shape)\n",
    "    print(labels_batch.numpy())\n",
    "    break"
   ]
  },
  {
   "cell_type": "code",
   "execution_count": 5,
   "id": "aad18582",
   "metadata": {},
   "outputs": [
    {
     "data": {
      "text/plain": [
       "(43, 10)"
      ]
     },
     "execution_count": 5,
     "metadata": {},
     "output_type": "execute_result"
    }
   ],
   "source": [
    "# train test split\n",
    "train_size = int(0.8 * len(dataset))\n",
    "test_size = int(0.2 * len(dataset))\n",
    "train_size, test_size\n"
   ]
  },
  {
   "cell_type": "code",
   "execution_count": 6,
   "id": "f79bbd8c",
   "metadata": {},
   "outputs": [],
   "source": [
    "def get_dataset_partisions_tf(ds, train_split=0.8, test_split=0.2, shuffle=True, shuffle_size=10000):\n",
    "    if shuffle:\n",
    "        ds = ds.shuffle(shuffle_size, seed=12)\n",
    "    train_size = int(train_split * len(ds))\n",
    "    test_size = int(test_split * len(ds))\n",
    "    train_ds = ds.take(train_size)\n",
    "    test_ds = ds.skip(train_size)\n",
    "    val_ds = test_ds.skip(test_size)\n",
    "    test_ds = test_ds.take(test_size)\n",
    "    return train_ds, test_ds, val_ds"
   ]
  },
  {
   "cell_type": "code",
   "execution_count": 7,
   "id": "514f3324",
   "metadata": {},
   "outputs": [
    {
     "data": {
      "text/plain": [
       "(43, 10, 1)"
      ]
     },
     "execution_count": 7,
     "metadata": {},
     "output_type": "execute_result"
    }
   ],
   "source": [
    "train_ds, test_ds, val_ds = get_dataset_partisions_tf(dataset)\n",
    "len(train_ds), len(test_ds), len(val_ds)"
   ]
  },
  {
   "cell_type": "code",
   "execution_count": 8,
   "id": "136c24fe",
   "metadata": {},
   "outputs": [],
   "source": [
    "resize_and_rescale = tf.keras.Sequential([\n",
    "    tf.keras.layers.experimental.preprocessing.Resizing(299, 299),\n",
    "    tf.keras.layers.experimental.preprocessing.Rescaling(1./255)\n",
    "])"
   ]
  },
  {
   "cell_type": "code",
   "execution_count": 9,
   "id": "591c45e0",
   "metadata": {},
   "outputs": [],
   "source": [
    "# train using Xception\n",
    "base_model = tf.keras.applications.Xception(\n",
    "    weights='imagenet',\n",
    "    input_shape=(299, 299, 3),\n",
    "    include_top=False,\n",
    "    pooling='avg',\n",
    "    classifier_activation='softmax',\n",
    "    classes=len(labels)\n",
    ")"
   ]
  },
  {
   "cell_type": "code",
   "execution_count": 10,
   "id": "a22ac0d4",
   "metadata": {},
   "outputs": [
    {
     "name": "stdout",
     "output_type": "stream",
     "text": [
      "Model: \"model\"\n",
      "_________________________________________________________________\n",
      " Layer (type)                Output Shape              Param #   \n",
      "=================================================================\n",
      " input_2 (InputLayer)        [(None, 299, 299, 3)]     0         \n",
      "                                                                 \n",
      " sequential (Sequential)     (None, 299, 299, 3)       0         \n",
      "                                                                 \n",
      " xception (Functional)       (None, 2048)              20861480  \n",
      "                                                                 \n",
      " dense (Dense)               (None, 128)               262272    \n",
      "                                                                 \n",
      " dropout (Dropout)           (None, 128)               0         \n",
      "                                                                 \n",
      " dense_1 (Dense)             (None, 19)                2451      \n",
      "                                                                 \n",
      "=================================================================\n",
      "Total params: 21,126,203\n",
      "Trainable params: 264,723\n",
      "Non-trainable params: 20,861,480\n",
      "_________________________________________________________________\n",
      "Epoch 1/25\n",
      "43/43 [==============================] - 608s 14s/step - loss: 1.9419 - accuracy: 0.4767 - val_loss: 0.9348 - val_accuracy: 0.8438\n",
      "Epoch 2/25\n",
      "43/43 [==============================] - 522s 12s/step - loss: 0.8280 - accuracy: 0.8016 - val_loss: 0.5321 - val_accuracy: 0.8438\n",
      "Epoch 3/25\n",
      "43/43 [==============================] - 457s 10s/step - loss: 0.5135 - accuracy: 0.8795 - val_loss: 0.3299 - val_accuracy: 0.9062\n",
      "Epoch 4/25\n",
      "43/43 [==============================] - 459s 10s/step - loss: 0.3588 - accuracy: 0.9155 - val_loss: 0.1362 - val_accuracy: 1.0000\n",
      "Epoch 5/25\n",
      "43/43 [==============================] - 308s 7s/step - loss: 0.2700 - accuracy: 0.9478 - val_loss: 0.0798 - val_accuracy: 1.0000\n",
      "Epoch 6/25\n",
      "43/43 [==============================] - 231s 5s/step - loss: 0.2002 - accuracy: 0.9625 - val_loss: 0.0586 - val_accuracy: 1.0000\n",
      "Epoch 7/25\n",
      "43/43 [==============================] - 232s 5s/step - loss: 0.1774 - accuracy: 0.9618 - val_loss: 0.0867 - val_accuracy: 1.0000\n",
      "Epoch 8/25\n",
      "43/43 [==============================] - 254s 6s/step - loss: 0.1398 - accuracy: 0.9765 - val_loss: 0.0756 - val_accuracy: 1.0000\n",
      "Epoch 9/25\n",
      "43/43 [==============================] - 274s 6s/step - loss: 0.1157 - accuracy: 0.9794 - val_loss: 0.0419 - val_accuracy: 1.0000\n",
      "Epoch 10/25\n",
      "43/43 [==============================] - 228s 5s/step - loss: 0.0834 - accuracy: 0.9890 - val_loss: 0.0287 - val_accuracy: 1.0000\n",
      "Epoch 11/25\n",
      "43/43 [==============================] - 205s 4s/step - loss: 0.0718 - accuracy: 0.9919 - val_loss: 0.0332 - val_accuracy: 1.0000\n",
      "Epoch 12/25\n",
      "43/43 [==============================] - 369s 8s/step - loss: 0.0655 - accuracy: 0.9912 - val_loss: 0.0134 - val_accuracy: 1.0000\n",
      "Epoch 13/25\n",
      "43/43 [==============================] - 367s 8s/step - loss: 0.0564 - accuracy: 0.9934 - val_loss: 0.0233 - val_accuracy: 1.0000\n",
      "Epoch 14/25\n",
      "43/43 [==============================] - 337s 8s/step - loss: 0.0531 - accuracy: 0.9956 - val_loss: 0.0147 - val_accuracy: 1.0000\n",
      "Epoch 15/25\n",
      "43/43 [==============================] - 356s 8s/step - loss: 0.0448 - accuracy: 0.9927 - val_loss: 0.0126 - val_accuracy: 1.0000\n",
      "Epoch 16/25\n",
      "43/43 [==============================] - 356s 8s/step - loss: 0.0420 - accuracy: 0.9956 - val_loss: 0.0129 - val_accuracy: 1.0000\n",
      "Epoch 17/25\n",
      "43/43 [==============================] - 338s 8s/step - loss: 0.0360 - accuracy: 0.9985 - val_loss: 0.0136 - val_accuracy: 1.0000\n",
      "Epoch 18/25\n",
      "43/43 [==============================] - 344s 8s/step - loss: 0.0290 - accuracy: 0.9985 - val_loss: 0.0073 - val_accuracy: 1.0000\n",
      "Epoch 19/25\n",
      "43/43 [==============================] - 372s 8s/step - loss: 0.0295 - accuracy: 0.9978 - val_loss: 0.0083 - val_accuracy: 1.0000\n",
      "Epoch 20/25\n",
      "43/43 [==============================] - 357s 8s/step - loss: 0.0234 - accuracy: 0.9993 - val_loss: 0.0063 - val_accuracy: 1.0000\n",
      "Epoch 21/25\n",
      "43/43 [==============================] - 360s 8s/step - loss: 0.0201 - accuracy: 0.9993 - val_loss: 0.0056 - val_accuracy: 1.0000\n",
      "Epoch 22/25\n",
      "43/43 [==============================] - 360s 8s/step - loss: 0.0220 - accuracy: 0.9993 - val_loss: 0.0059 - val_accuracy: 1.0000\n",
      "Epoch 23/25\n",
      "43/43 [==============================] - 367s 8s/step - loss: 0.0196 - accuracy: 0.9993 - val_loss: 0.0066 - val_accuracy: 1.0000\n",
      "Epoch 24/25\n",
      "43/43 [==============================] - 341s 8s/step - loss: 0.0162 - accuracy: 1.0000 - val_loss: 0.0021 - val_accuracy: 1.0000\n",
      "Epoch 25/25\n",
      "43/43 [==============================] - 338s 8s/step - loss: 0.0149 - accuracy: 1.0000 - val_loss: 0.0054 - val_accuracy: 1.0000\n"
     ]
    }
   ],
   "source": [
    "base_model.trainable = False\n",
    "\n",
    "inputs = tf.keras.Input(shape=(299, 299, 3))\n",
    "x = resize_and_rescale(inputs)\n",
    "x = base_model(x, training=False)\n",
    "x = tf.keras.layers.Dense(128, activation='relu')(x)\n",
    "x = tf.keras.layers.Dropout(0.2)(x)\n",
    "outputs = tf.keras.layers.Dense(len(labels), activation='softmax')(x)\n",
    "model = tf.keras.Model(inputs, outputs)\n",
    "\n",
    "model.compile(\n",
    "    optimizer='adam',\n",
    "    loss='sparse_categorical_crossentropy',\n",
    "    metrics=['accuracy']\n",
    ")\n",
    "\n",
    "model.summary()\n",
    "\n",
    "history = model.fit(\n",
    "    train_ds,\n",
    "    validation_data=val_ds,\n",
    "    batch_size=32,\n",
    "    epochs=25\n",
    ")"
   ]
  },
  {
   "cell_type": "code",
   "execution_count": 13,
   "id": "3a7748d6",
   "metadata": {},
   "outputs": [],
   "source": [
    "model.save(\"leaf_classifier_model.h5\")"
   ]
  }
 ],
 "metadata": {
  "kernelspec": {
   "display_name": "Python 3",
   "language": "python",
   "name": "python3"
  },
  "language_info": {
   "codemirror_mode": {
    "name": "ipython",
    "version": 3
   },
   "file_extension": ".py",
   "mimetype": "text/x-python",
   "name": "python",
   "nbconvert_exporter": "python",
   "pygments_lexer": "ipython3",
   "version": "3.8.8"
  }
 },
 "nbformat": 4,
 "nbformat_minor": 5
}
